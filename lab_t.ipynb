{
 "cells": [
  {
   "cell_type": "markdown",
   "id": "7f4d760c-32c0-4ddc-8f39-1f397c9cd7c5",
   "metadata": {},
   "source": [
    "Разбейте выборку на тренировочную и тестовую в соотношении 80/20"
   ]
  },
  {
   "cell_type": "code",
   "execution_count": 8,
   "id": "10744c9c-5ce6-4a53-95a5-545fd2d310ef",
   "metadata": {},
   "outputs": [
    {
     "data": {
      "text/html": [
       "<div>\n",
       "<style scoped>\n",
       "    .dataframe tbody tr th:only-of-type {\n",
       "        vertical-align: middle;\n",
       "    }\n",
       "\n",
       "    .dataframe tbody tr th {\n",
       "        vertical-align: top;\n",
       "    }\n",
       "\n",
       "    .dataframe thead th {\n",
       "        text-align: right;\n",
       "    }\n",
       "</style>\n",
       "<table border=\"1\" class=\"dataframe\">\n",
       "  <thead>\n",
       "    <tr style=\"text-align: right;\">\n",
       "      <th></th>\n",
       "      <th>Survived</th>\n",
       "      <th>Pclass</th>\n",
       "      <th>Name</th>\n",
       "      <th>Sex</th>\n",
       "      <th>Age</th>\n",
       "      <th>Siblings/Spouses Aboard</th>\n",
       "      <th>Parents/Children Aboard</th>\n",
       "      <th>Fare</th>\n",
       "    </tr>\n",
       "  </thead>\n",
       "  <tbody>\n",
       "    <tr>\n",
       "      <th>0</th>\n",
       "      <td>0</td>\n",
       "      <td>3</td>\n",
       "      <td>Mr. Owen Harris Braund</td>\n",
       "      <td>male</td>\n",
       "      <td>22.0</td>\n",
       "      <td>1</td>\n",
       "      <td>0</td>\n",
       "      <td>7.2500</td>\n",
       "    </tr>\n",
       "    <tr>\n",
       "      <th>1</th>\n",
       "      <td>1</td>\n",
       "      <td>1</td>\n",
       "      <td>Mrs. John Bradley (Florence Briggs Thayer) Cum...</td>\n",
       "      <td>female</td>\n",
       "      <td>38.0</td>\n",
       "      <td>1</td>\n",
       "      <td>0</td>\n",
       "      <td>71.2833</td>\n",
       "    </tr>\n",
       "    <tr>\n",
       "      <th>2</th>\n",
       "      <td>1</td>\n",
       "      <td>3</td>\n",
       "      <td>Miss. Laina Heikkinen</td>\n",
       "      <td>female</td>\n",
       "      <td>26.0</td>\n",
       "      <td>0</td>\n",
       "      <td>0</td>\n",
       "      <td>7.9250</td>\n",
       "    </tr>\n",
       "    <tr>\n",
       "      <th>3</th>\n",
       "      <td>1</td>\n",
       "      <td>1</td>\n",
       "      <td>Mrs. Jacques Heath (Lily May Peel) Futrelle</td>\n",
       "      <td>female</td>\n",
       "      <td>35.0</td>\n",
       "      <td>1</td>\n",
       "      <td>0</td>\n",
       "      <td>53.1000</td>\n",
       "    </tr>\n",
       "    <tr>\n",
       "      <th>4</th>\n",
       "      <td>0</td>\n",
       "      <td>3</td>\n",
       "      <td>Mr. William Henry Allen</td>\n",
       "      <td>male</td>\n",
       "      <td>35.0</td>\n",
       "      <td>0</td>\n",
       "      <td>0</td>\n",
       "      <td>8.0500</td>\n",
       "    </tr>\n",
       "  </tbody>\n",
       "</table>\n",
       "</div>"
      ],
      "text/plain": [
       "   Survived  Pclass                                               Name  \\\n",
       "0         0       3                             Mr. Owen Harris Braund   \n",
       "1         1       1  Mrs. John Bradley (Florence Briggs Thayer) Cum...   \n",
       "2         1       3                              Miss. Laina Heikkinen   \n",
       "3         1       1        Mrs. Jacques Heath (Lily May Peel) Futrelle   \n",
       "4         0       3                            Mr. William Henry Allen   \n",
       "\n",
       "      Sex   Age  Siblings/Spouses Aboard  Parents/Children Aboard     Fare  \n",
       "0    male  22.0                        1                        0   7.2500  \n",
       "1  female  38.0                        1                        0  71.2833  \n",
       "2  female  26.0                        0                        0   7.9250  \n",
       "3  female  35.0                        1                        0  53.1000  \n",
       "4    male  35.0                        0                        0   8.0500  "
      ]
     },
     "execution_count": 8,
     "metadata": {},
     "output_type": "execute_result"
    }
   ],
   "source": [
    "import pandas as pd\n",
    "import numpy as np\n",
    "df = pd.read_csv('titanic.csv')\n",
    "df.head()"
   ]
  },
  {
   "cell_type": "markdown",
   "id": "dd447620-2e55-4f07-ad84-8de4ed858b51",
   "metadata": {},
   "source": [
    "Создание x и y множеств. Удалим имена пассажиров, так они вряд ли влюяют на что-то и категоризируем пол пассажиров."
   ]
  },
  {
   "cell_type": "code",
   "execution_count": 9,
   "id": "217478e7-eae7-4c20-82e7-5a2d0d64ef5f",
   "metadata": {},
   "outputs": [
    {
     "name": "stdout",
     "output_type": "stream",
     "text": [
      "passagires data\n",
      "   Pclass  Sex   Age  Siblings/Spouses Aboard  Parents/Children Aboard  \\\n",
      "0       3    1  22.0                        1                        0   \n",
      "1       1    0  38.0                        1                        0   \n",
      "2       3    0  26.0                        0                        0   \n",
      "3       1    0  35.0                        1                        0   \n",
      "4       3    1  35.0                        0                        0   \n",
      "\n",
      "      Fare  \n",
      "0   7.2500  \n",
      "1  71.2833  \n",
      "2   7.9250  \n",
      "3  53.1000  \n",
      "4   8.0500  \n",
      "Is survived?\n",
      "0    0\n",
      "1    1\n",
      "2    1\n",
      "3    1\n",
      "4    0\n",
      "Name: Survived, dtype: int64\n"
     ]
    }
   ],
   "source": [
    "from sklearn.preprocessing import LabelEncoder\n",
    "\n",
    "X = df.drop('Survived', axis = 1).drop('Name', axis = 1)\n",
    "#enc = c()\n",
    "X['Sex'] = LabelEncoder().fit_transform(X['Sex'])\n",
    "\n",
    "Y = df['Survived']\n",
    "print(\"passagires data\")\n",
    "print(X.head())\n",
    "print(\"Is survived?\")\n",
    "print(Y.head())"
   ]
  },
  {
   "cell_type": "markdown",
   "id": "534f750d-6053-422b-a2f4-b17528f6d5ae",
   "metadata": {},
   "source": [
    "Разделим данные на обучающую и тестовую выборку 80/20"
   ]
  },
  {
   "cell_type": "code",
   "execution_count": 10,
   "id": "726018d2-b378-4b67-8cb9-1ccc1431a349",
   "metadata": {},
   "outputs": [],
   "source": [
    "from sklearn.model_selection import train_test_split\n",
    "\n",
    "x_train, x_test, y_train, y_test = train_test_split(X, Y, test_size=0.2, random_state=0) "
   ]
  },
  {
   "cell_type": "markdown",
   "id": "6b7bdd68-b5f0-4754-adee-54e8e8963606",
   "metadata": {},
   "source": [
    "Построим модель машинного обучения выживаемости. "
   ]
  },
  {
   "cell_type": "code",
   "execution_count": 11,
   "id": "4c975987-96a3-4d7f-a6b6-9d3153aca780",
   "metadata": {},
   "outputs": [
    {
     "name": "stdout",
     "output_type": "stream",
     "text": [
      "Тренировочная выборка\n",
      "0.9802538787023978\n",
      "Тестовая выборка\n",
      "0.8033707865168539\n"
     ]
    }
   ],
   "source": [
    "from sklearn.ensemble import RandomForestClassifier \n",
    "\n",
    "rf = RandomForestClassifier(n_estimators=50)\n",
    "model = rf.fit(x_train, y_train)\n",
    "print(\"Тренировочная выборка\")\n",
    "print(model.score(x_train, y_train))\n",
    "\n",
    "print(\"Тестовая выборка\")\n",
    "print(model.score(x_test, y_test))\n"
   ]
  },
  {
   "cell_type": "markdown",
   "id": "3d57b85f-3951-4392-b85a-5d62240fce91",
   "metadata": {},
   "source": [
    "Оценим переобучение модели"
   ]
  },
  {
   "cell_type": "code",
   "execution_count": 15,
   "id": "8cf4cf6b-cf3b-4e86-8742-19afde86c8fd",
   "metadata": {},
   "outputs": [
    {
     "name": "stdout",
     "output_type": "stream",
     "text": [
      "Коэфф R2: 0.8151685393258428, стандартное отклонение: 0.050421805818355515\n"
     ]
    }
   ],
   "source": [
    "from sklearn.model_selection import cross_val_score\n",
    "rf = RandomForestClassifier(n_estimators=50)\n",
    "model = rf.fit(x_train, y_train)\n",
    "sc = cross_val_score(model, X, Y, cv = 10)\n",
    "print(f\"Коэфф R2: {sc.mean()}, стандартное отклонение: {sc.std()}\")"
   ]
  },
  {
   "cell_type": "code",
   "execution_count": null,
   "id": "e1617bf8-f88c-471c-bf0d-507f2ef87299",
   "metadata": {},
   "outputs": [],
   "source": []
  }
 ],
 "metadata": {
  "kernelspec": {
   "display_name": "Python 3 (ipykernel)",
   "language": "python",
   "name": "python3"
  },
  "language_info": {
   "codemirror_mode": {
    "name": "ipython",
    "version": 3
   },
   "file_extension": ".py",
   "mimetype": "text/x-python",
   "name": "python",
   "nbconvert_exporter": "python",
   "pygments_lexer": "ipython3",
   "version": "3.9.5"
  }
 },
 "nbformat": 4,
 "nbformat_minor": 5
}
