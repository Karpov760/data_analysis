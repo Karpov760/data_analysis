{
 "cells": [
  {
   "cell_type": "code",
   "execution_count": 1,
   "id": "f025356d-3c35-4819-9d08-392b7d932923",
   "metadata": {},
   "outputs": [
    {
     "data": {
      "text/plain": [
       "array([0.33333333+4.39029672e-09j, 0.33333333-4.39029672e-09j])"
      ]
     },
     "execution_count": 1,
     "metadata": {},
     "output_type": "execute_result"
    }
   ],
   "source": [
    "import numpy as np\n",
    "import matplotlib.pyplot as plt\n",
    "coef = [9,-6,1]\n",
    "np.roots(coef)"
   ]
  },
  {
   "cell_type": "code",
   "execution_count": 18,
   "id": "16c85060-41f7-4616-8e57-ceda022e6793",
   "metadata": {},
   "outputs": [
    {
     "name": "stdout",
     "output_type": "stream",
     "text": [
      "For X1: 2.98287578316995\n",
      "For X2: 2.0083190985168065\n",
      "For e: 1.0276845706687474\n",
      "[3. 2. 1. 5.]\n",
      "By hand:\n",
      "[2.98287578 4.9568367 ]\n",
      "[2.0083191  6.46585058]\n",
      "[1.02768457 6.4822968 ]\n"
     ]
    }
   ],
   "source": [
    "from scipy import stats\n",
    "\n",
    "def mnk(X, Y):\n",
    "    #неочевидно, но это - уравнение (Хт*Х)(-1) * Хт * У\n",
    "    XT = X.transpose()\n",
    "    X =  np.dot(np.dot(np.linalg.inv(np.dot(XT, X)), XT), Y)\n",
    "    return X\n",
    "\n",
    "Y = []\n",
    "n = 1000 #количество случайных значений\n",
    "\n",
    "X1 = stats.uniform(0, 1).rvs(size=n)\n",
    "\n",
    "X2 = stats.t(5).rvs(size = n)\n",
    "\n",
    "e = stats.norm(loc=0, scale=1).rvs(size = n)\n",
    "\n",
    "for i in range(0,n):\n",
    "    Y.append(3*X1[i]+ 2*X2[i] + 5 + e[i])\n",
    "    \n",
    "#MNK\n",
    "# HX1, HX2, He - массивы вида [[x[0], 1], [x[1], 1], ..., [x[n], 1]]\n",
    "# для составления систему уравнений y =\n",
    "HX1 = np.vstack([X1, np.ones(len(X1))]).T \n",
    "HX2 = np.vstack([X2, np.ones(len(X2))]).T\n",
    "He =  np.vstack([e, np.ones(len(e))]).T\n",
    "\n",
    "\n",
    "a1 = np.linalg.lstsq(HX1, Y, rcond=None)[0][0]\n",
    "a2 = np.linalg.lstsq(HX2, Y, rcond=None)[0][0]\n",
    "a3 = np.linalg.lstsq(He, Y, rcond=None)[0][0]\n",
    "print(\"По отдельности\")\n",
    "print(\"For X1: {a1}\".format(a1=a1)) \n",
    "print(\"For X2: {a2}\".format(a2=a2))\n",
    "print(\"For e: {a3}\".format(a3=a3))\n",
    "\n",
    "H1 = mnk(HX1,Y)\n",
    "H2 = mnk(HX2,Y)\n",
    "He = mnk(He,Y)\n",
    "print(\"By hand:\")\n",
    "print(H1)\n",
    "print(H2)\n",
    "print(He)\n",
    "\n",
    "print(\"Вместе\")\n",
    "ALL = np.vstack([X1, X2, e, np.ones(len(X1))]).T \n",
    "print(mnk(ALL,Y))"
   ]
  },
  {
   "cell_type": "code",
   "execution_count": 31,
   "id": "2b70be28-d34a-450f-a346-e9655eaa2471",
   "metadata": {},
   "outputs": [
    {
     "name": "stdout",
     "output_type": "stream",
     "text": [
      "African_elephant 63.30677270889282%\n"
     ]
    }
   ],
   "source": [
    "import numpy as np\n",
    "import matplotlib.pyplot as plt\n",
    "from tensorflow import keras\n",
    "from keras.preprocessing.image import load_img\n",
    "from keras.preprocessing.image import img_to_array\n",
    "from keras.applications.vgg19 import preprocess_input\n",
    "from keras.applications.vgg19 import decode_predictions\n",
    "from io import BytesIO\n",
    "from PIL import Image\n",
    " \n",
    "model = keras.applications.VGG19()\n",
    "#print(model.summary())\n",
    "\n",
    "# load an image from file\n",
    "image = load_img('1-108.jpg', target_size=(224, 224))\n",
    "# convert the image pixels to a numpy array\n",
    "image = img_to_array(image)\n",
    "# reshape data for the model\n",
    "image = image.reshape((1, image.shape[0], image.shape[1], image.shape[2]))\n",
    "# prepare the image for the VGG model\n",
    "image = preprocess_input(image)\n",
    "# predict the probability across all output classes\n",
    "yhat = model.predict(image)\n",
    "\n",
    "# convert the probabilities to class labels\n",
    "label = decode_predictions(yhat)\n",
    "# retrieve the most likely result, e.g. highest probability\n",
    "label = label[0][0]\n",
    "# print the classification\n",
    "print(f\"{label[1]} {label[2]*100}%\")\n"
   ]
  },
  {
   "cell_type": "code",
   "execution_count": null,
   "id": "521a4a8b-b7f2-4352-bc9c-9fd34c1cd28d",
   "metadata": {},
   "outputs": [],
   "source": []
  }
 ],
 "metadata": {
  "kernelspec": {
   "display_name": "Python 3 (ipykernel)",
   "language": "python",
   "name": "python3"
  },
  "language_info": {
   "codemirror_mode": {
    "name": "ipython",
    "version": 3
   },
   "file_extension": ".py",
   "mimetype": "text/x-python",
   "name": "python",
   "nbconvert_exporter": "python",
   "pygments_lexer": "ipython3",
   "version": "3.9.5"
  }
 },
 "nbformat": 4,
 "nbformat_minor": 5
}
