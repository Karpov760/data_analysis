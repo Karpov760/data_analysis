{
 "cells": [
  {
   "cell_type": "code",
   "execution_count": 1,
   "id": "20aec7ea-c1a3-4743-aecb-6b9f7f0bf0f8",
   "metadata": {},
   "outputs": [],
   "source": [
    "import pandas as pd\n",
    "import numpy as np\n",
    "df = pd.read_csv('titanic.csv')"
   ]
  },
  {
   "cell_type": "code",
   "execution_count": 3,
   "id": "e5b6d56e-fd5c-4391-8acd-338564c2fe3c",
   "metadata": {},
   "outputs": [
    {
     "name": "stdout",
     "output_type": "stream",
     "text": [
      "passagires data\n",
      "   Pclass  Sex   Age  Siblings/Spouses Aboard  Parents/Children Aboard  \\\n",
      "0       3    1  22.0                        1                        0   \n",
      "1       1    0  38.0                        1                        0   \n",
      "2       3    0  26.0                        0                        0   \n",
      "3       1    0  35.0                        1                        0   \n",
      "4       3    1  35.0                        0                        0   \n",
      "\n",
      "      Fare  \n",
      "0   7.2500  \n",
      "1  71.2833  \n",
      "2   7.9250  \n",
      "3  53.1000  \n",
      "4   8.0500  \n",
      "Is survived?\n",
      "0    0\n",
      "1    1\n",
      "2    1\n",
      "3    1\n",
      "4    0\n",
      "Name: Survived, dtype: int64\n"
     ]
    }
   ],
   "source": [
    "from sklearn.preprocessing import LabelEncoder\n",
    "\n",
    "'''\n",
    "Создание x и y множеств. Удалим имена пассажиров, \n",
    "так они вряд ли влюяют на что-то и категоризируем пол пассажиров.\n",
    "'''\n",
    "X = df.drop('Survived', axis = 1).drop('Name', axis = 1)\n",
    "X['Sex'] = LabelEncoder().fit_transform(X['Sex'])\n",
    "\n",
    "Y = df['Survived']\n",
    "print(\"passagires data\")\n",
    "print(X.head())\n",
    "print(\"Is survived?\")\n",
    "print(Y.head())"
   ]
  },
  {
   "cell_type": "code",
   "execution_count": 11,
   "id": "5370f0ed-ceff-434e-977e-13b08449f13e",
   "metadata": {},
   "outputs": [
    {
     "name": "stdout",
     "output_type": "stream",
     "text": [
      "[0.78651685 0.80898876 0.86440678 0.81355932 0.84745763]\n"
     ]
    }
   ],
   "source": [
    "#ансамбль моделей типа бегинг (bagging)\n",
    "from sklearn.ensemble import BaggingClassifier\n",
    "from sklearn.ensemble import RandomForestClassifier\n",
    "from sklearn.model_selection import cross_val_score\n",
    "\n",
    "clf = BaggingClassifier(base_estimator=RandomForestClassifier(),\n",
    "                        n_estimators=10, random_state=1).fit(X, Y)\n",
    "\n",
    "sc_bag = cross_val_score(clf, X, Y, scoring='accuracy', cv = 5)\n",
    "print(sc_bag)"
   ]
  },
  {
   "cell_type": "code",
   "execution_count": 16,
   "id": "e4f78c42-bc89-4d94-b00f-df921fa2e281",
   "metadata": {},
   "outputs": [
    {
     "name": "stdout",
     "output_type": "stream",
     "text": [
      "[0.76404494 0.78651685 0.84180791 0.8079096  0.84180791]\n"
     ]
    }
   ],
   "source": [
    "#ансамбль моделей типа бустинг (boosting)\n",
    "from sklearn.ensemble import AdaBoostClassifier\n",
    "\n",
    "abc = AdaBoostClassifier(base_estimator=RandomForestClassifier(),\n",
    "                        n_estimators=10, random_state=1).fit(X, Y)\n",
    "\n",
    "sc_boost_a = cross_val_score(abc, X, Y, scoring='accuracy', cv = 5)\n",
    "print(sc_boost_a)"
   ]
  },
  {
   "cell_type": "code",
   "execution_count": 21,
   "id": "1c7a0595-74a3-4514-a481-1dd33d6107c3",
   "metadata": {},
   "outputs": [
    {
     "name": "stdout",
     "output_type": "stream",
     "text": [
      "[0.76966292 0.79775281 0.83615819 0.81355932 0.84180791]\n"
     ]
    }
   ],
   "source": [
    "#ансамбль моделей типа стекинг (stacking)\n",
    "from sklearn.ensemble import StackingClassifier\n",
    "from sklearn.naive_bayes import GaussianNB\n",
    "from sklearn.cluster import KMeans\n",
    "from sklearn.ensemble import RandomForestClassifier \n",
    "\n",
    "estimators = [\n",
    "    ('rf', RandomForestClassifier(n_estimators=50)),\n",
    "    ('gnb', GaussianNB())\n",
    "]\n",
    "clf = StackingClassifier(\n",
    "    estimators=estimators, final_estimator=LogisticRegression()\n",
    ")\n",
    "clf.fit(X, Y)\n",
    "sc_st = cross_val_score(clf, X, Y, scoring='accuracy', cv = 5)\n",
    "print(sc_st)"
   ]
  },
  {
   "cell_type": "code",
   "execution_count": 24,
   "id": "6f1b297e-d082-4c20-bd15-0411508c131f",
   "metadata": {},
   "outputs": [
    {
     "name": "stdout",
     "output_type": "stream",
     "text": [
      "[0.78089888 0.8258427  0.81355932 0.79661017 0.77966102]\n",
      "[0.75280899 0.79775281 0.83050847 0.77966102 0.81920904]\n"
     ]
    }
   ],
   "source": [
    "#ансамбль моделей типа голосования (voting)\n",
    "from sklearn.ensemble import VotingClassifier\n",
    "\n",
    "m_vote_h = VotingClassifier(estimators=estimators, voting = 'hard').fit(X, Y)\n",
    "sc_vh = cross_val_score(m_vote_h, X, Y, scoring='accuracy', cv = 5)\n",
    "print(sc_vh)\n",
    "\n",
    "m_vote_s = VotingClassifier(estimators=estimators, voting = 'soft').fit(X, Y)\n",
    "sc_vs = cross_val_score(m_vote_s, X, Y, scoring='accuracy', cv = 5)\n",
    "print(sc_vs)"
   ]
  }
 ],
 "metadata": {
  "kernelspec": {
   "display_name": "Python 3 (ipykernel)",
   "language": "python",
   "name": "python3"
  },
  "language_info": {
   "codemirror_mode": {
    "name": "ipython",
    "version": 3
   },
   "file_extension": ".py",
   "mimetype": "text/x-python",
   "name": "python",
   "nbconvert_exporter": "python",
   "pygments_lexer": "ipython3",
   "version": "3.9.5"
  }
 },
 "nbformat": 4,
 "nbformat_minor": 5
}
