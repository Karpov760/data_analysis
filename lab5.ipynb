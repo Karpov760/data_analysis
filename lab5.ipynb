{
 "cells": [
  {
   "cell_type": "markdown",
   "id": "82245a14-12e5-414e-9fed-2bea6e8a27c4",
   "metadata": {},
   "source": [
    "Байесовскую ридж-регрессию (Bayesian Ridge Regression)\n",
    "Модель Lasso\n",
    "Модель Персептрона (Perceptron)\n",
    "Классифицируйте данные  при помощи метода опорных векторов (SVM)\n",
    "Кластеризуйте данные с использование метода k- средних"
   ]
  },
  {
   "cell_type": "code",
   "execution_count": 3,
   "id": "eaa355b9-d5b5-4c0a-989d-2c9971001eff",
   "metadata": {},
   "outputs": [
    {
     "name": "stdout",
     "output_type": "stream",
     "text": [
      "['sepal length (cm)', 'sepal width (cm)', 'petal length (cm)', 'petal width (cm)']\n",
      "[[5.1 3.5 1.4 0.2]\n",
      " [4.9 3.  1.4 0.2]\n",
      " [4.7 3.2 1.3 0.2]\n",
      " [4.6 3.1 1.5 0.2]]\n",
      "['setosa' 'versicolor' 'virginica']\n",
      "[0 0 0 0]\n"
     ]
    }
   ],
   "source": [
    "from sklearn.datasets import load_iris \n",
    "import matplotlib.pyplot as plt\n",
    "\n",
    "iris = load_iris()\n",
    "\n",
    "x, y = load_iris(return_X_y=True)\n",
    "\n",
    "#print(load_iris()['DESCR'])\n",
    "print(iris.feature_names)\n",
    "print(x[:4])\n",
    "print(iris.target_names)\n",
    "print(y[:4])"
   ]
  },
  {
   "cell_type": "markdown",
   "id": "5ab109ac-f666-49f8-a284-44b52156a96a",
   "metadata": {},
   "source": [
    "**Bayesian Ridge Regression**"
   ]
  },
  {
   "cell_type": "code",
   "execution_count": null,
   "id": "9d82c6e8-5690-4543-b1f9-ff4ca3894d5f",
   "metadata": {},
   "outputs": [],
   "source": [
    "from sklearn import linear_model\n",
    "clf = linear_model.BayesianRidge(n_iter = 1000)\n",
    "clf.fit(x,y)\n",
    "print(\"Коэффициенты\")\n",
    "print(clf.coef_)\n",
    "print(\"Качество модели\")\n",
    "print(clf.score(x,y))"
   ]
  },
  {
   "cell_type": "code",
   "execution_count": null,
   "id": "f8936c8c-9642-4cba-b94d-3ff7b6220018",
   "metadata": {},
   "outputs": [],
   "source": [
    "pred = clf.predict(x)\n",
    "plt.scatter(y, pred)"
   ]
  },
  {
   "cell_type": "markdown",
   "id": "a0dee2be-42cc-4f95-94a1-f91ce4b7873d",
   "metadata": {},
   "source": [
    "можно увидеть, что предсказания с некоторым разбросом соответсвуют y"
   ]
  },
  {
   "cell_type": "markdown",
   "id": "2d77848c-b780-4efc-bee2-f02d6e14b827",
   "metadata": {},
   "source": [
    "**Модель Lasso**"
   ]
  },
  {
   "cell_type": "code",
   "execution_count": null,
   "id": "7b54832d-7a3e-499e-a633-62944e553e4d",
   "metadata": {},
   "outputs": [],
   "source": [
    "reg = linear_model.Lasso(alpha=0.0001)\n",
    "reg.fit(x,y)\n",
    "print(\"Коэффициенты\")\n",
    "print(reg.coef_)\n",
    "print(\"Качество модели\")\n",
    "print(reg.score(x,y))"
   ]
  },
  {
   "cell_type": "code",
   "execution_count": null,
   "id": "be5e7136-7fe8-4c42-881f-a94df61ef2ee",
   "metadata": {},
   "outputs": [],
   "source": [
    "pred2 = reg.predict(x)\n",
    "plt.scatter(y, pred2)"
   ]
  },
  {
   "cell_type": "markdown",
   "id": "93690010-888f-41d9-973e-5c71586e67d9",
   "metadata": {},
   "source": [
    "**Модель Персептрона (Perceptron)**"
   ]
  },
  {
   "cell_type": "code",
   "execution_count": null,
   "id": "eb41f590-b257-4ddb-b629-db63de10af5c",
   "metadata": {},
   "outputs": [],
   "source": [
    "per = linear_model.Perceptron(fit_intercept=False, eta0=0.01)\n",
    "per.fit(x,y)\n",
    "\n",
    "print(\"Качество модели\")\n",
    "print(per.score(x,y))"
   ]
  },
  {
   "cell_type": "code",
   "execution_count": null,
   "id": "080eeb36-6f41-42b1-aaff-82bc448aa56c",
   "metadata": {},
   "outputs": [],
   "source": [
    "pred3 = per.predict(x)\n",
    "plt.hist(y)\n",
    "plt.hist(pred3, alpha = 0.6)"
   ]
  },
  {
   "cell_type": "markdown",
   "id": "0a0c97b7-30cd-4f10-a62e-e71aa103b099",
   "metadata": {},
   "source": [
    "**Классифицируйте данные  при помощи метода опорных векторов (SVM)**\n",
    "\n",
    "Работа метода опорных векторов заключается в рисовании линии между разными кластерами точек, которые нужно сгруппировать в классы. С одной стороны линии будут точки, принадлежащие одному классу, с другой стороны — к другому классу.\n",
    "\n",
    "Классификатор будет пытаться увеличить расстояние между рисуемыми линиями и точками на разных сторонах, чтобы увеличить свою «уверенность» определения класса. Когда все точки построены, сторона, на которую они падают — это класс, которому эти точки принадлежат."
   ]
  },
  {
   "cell_type": "code",
   "execution_count": 4,
   "id": "b47188dd-21fa-4805-a075-6572e566fc66",
   "metadata": {},
   "outputs": [
    {
     "name": "stdout",
     "output_type": "stream",
     "text": [
      "[1.   0.96 0.96]\n"
     ]
    }
   ],
   "source": [
    "from sklearn import svm\n",
    "import matplotlib.lines as mlines\n",
    "from sklearn.metrics import recall_score\n",
    "\n",
    "cl = svm.SVC()\n",
    "cl.fit(x, y)\n",
    "pred4 = cl.predict(x)\n",
    "print(recall_score(y, pred4, average=None))"
   ]
  },
  {
   "cell_type": "code",
   "execution_count": 5,
   "id": "addf1603-4cf9-461e-a7ae-3d74d3dccba2",
   "metadata": {},
   "outputs": [
    {
     "data": {
      "text/plain": [
       "(array([50.,  0.,  0.,  0.,  0., 50.,  0.,  0.,  0., 50.]),\n",
       " array([0. , 0.2, 0.4, 0.6, 0.8, 1. , 1.2, 1.4, 1.6, 1.8, 2. ]),\n",
       " <BarContainer object of 10 artists>)"
      ]
     },
     "execution_count": 5,
     "metadata": {},
     "output_type": "execute_result"
    },
    {
     "data": {
      "image/png": "[encoded data removed]",
      "text/plain": [
       "<Figure size 432x288 with 1 Axes>"
      ]
     },
     "metadata": {
      "needs_background": "light"
     },
     "output_type": "display_data"
    }
   ],
   "source": [
    "plt.hist(y)\n",
    "plt.hist(pred4, alpha = 0.3)"
   ]
  },
  {
   "cell_type": "markdown",
   "id": "00f84890-a4eb-4e6e-91fa-b78219bb108c",
   "metadata": {},
   "source": [
    "Полностью совпадают!"
   ]
  },
  {
   "cell_type": "markdown",
   "id": "c42939d7-38e1-495e-93db-a4afb941e6fd",
   "metadata": {},
   "source": [
    "**Кластеризуйте данные с использование метода k- средних**"
   ]
  },
  {
   "cell_type": "code",
   "execution_count": 6,
   "id": "b0433433-265c-4e75-8e5f-1276ffaf3dcf",
   "metadata": {},
   "outputs": [
    {
     "data": {
      "text/plain": [
       "(array([38.,  0.,  0.,  0.,  0., 50.,  0.,  0.,  0., 62.]),\n",
       " array([0. , 0.2, 0.4, 0.6, 0.8, 1. , 1.2, 1.4, 1.6, 1.8, 2. ]),\n",
       " <BarContainer object of 10 artists>)"
      ]
     },
     "execution_count": 6,
     "metadata": {},
     "output_type": "execute_result"
    },
    {
     "data": {
      "image/png": "[encoded data removed]",
      "text/plain": [
       "<Figure size 432x288 with 1 Axes>"
      ]
     },
     "metadata": {
      "needs_background": "light"
     },
     "output_type": "display_data"
    }
   ],
   "source": [
    "from sklearn.cluster import KMeans\n",
    "\n",
    "k_means = KMeans(n_clusters = 3, n_init = 10, copy_x = True)\n",
    "k_means.fit(x,y)\n",
    "pred5 = k_means.predict(x)\n",
    "\n",
    "plt.hist(y)\n",
    "plt.hist(pred5, alpha = 0.3)"
   ]
  },
  {
   "cell_type": "code",
   "execution_count": null,
   "id": "c563b6f7-c42a-491f-932b-d008f685dfb1",
   "metadata": {},
   "outputs": [],
   "source": []
  }
 ],
 "metadata": {
  "kernelspec": {
   "display_name": "Python 3 (ipykernel)",
   "language": "python",
   "name": "python3"
  },
  "language_info": {
   "codemirror_mode": {
    "name": "ipython",
    "version": 3
   },
   "file_extension": ".py",
   "mimetype": "text/x-python",
   "name": "python",
   "nbconvert_exporter": "python",
   "pygments_lexer": "ipython3",
   "version": "3.9.5"
  }
 },
 "nbformat": 4,
 "nbformat_minor": 5
}
